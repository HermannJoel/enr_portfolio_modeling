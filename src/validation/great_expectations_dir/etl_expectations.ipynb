{
 "cells": [
  {
   "cell_type": "code",
   "execution_count": 7,
   "id": "600b4879-50b8-4fed-bde4-d3f4035cb587",
   "metadata": {
    "tags": []
   },
   "outputs": [],
   "source": [
    "import great_expectations as ge"
   ]
  },
  {
   "cell_type": "code",
   "execution_count": 11,
   "id": "4bf37e82-30d5-4b9d-9df2-7a89f4386576",
   "metadata": {
    "tags": []
   },
   "outputs": [
    {
     "data": {
      "text/plain": [
       "'/mnt/d/local-repo-github/enr_portfolio_modeling/src/validation/great_expectations_dir/great_expectations/uncommitted'"
      ]
     },
     "execution_count": 11,
     "metadata": {},
     "output_type": "execute_result"
    }
   ],
   "source": [
    "import os\n",
    "os.getcwd()"
   ]
  },
  {
   "cell_type": "code",
   "execution_count": 14,
   "id": "afefc820-187f-4d62-b35f-9e5926a02390",
   "metadata": {
    "tags": []
   },
   "outputs": [
    {
     "data": {
      "text/html": [
       "<div>\n",
       "<style scoped>\n",
       "    .dataframe tbody tr th:only-of-type {\n",
       "        vertical-align: middle;\n",
       "    }\n",
       "\n",
       "    .dataframe tbody tr th {\n",
       "        vertical-align: top;\n",
       "    }\n",
       "\n",
       "    .dataframe thead th {\n",
       "        text-align: right;\n",
       "    }\n",
       "</style>\n",
       "<table border=\"1\" class=\"dataframe\">\n",
       "  <thead>\n",
       "    <tr style=\"text-align: right;\">\n",
       "      <th></th>\n",
       "      <th>id</th>\n",
       "      <th>asset_id</th>\n",
       "      <th>projet_id</th>\n",
       "      <th>projet</th>\n",
       "      <th>technologie</th>\n",
       "      <th>cod</th>\n",
       "      <th>mw</th>\n",
       "      <th>taux_succès</th>\n",
       "      <th>puissance_installée</th>\n",
       "      <th>eoh</th>\n",
       "      <th>date_merchant</th>\n",
       "      <th>date_dementelement</th>\n",
       "      <th>repowering</th>\n",
       "      <th>date_msi</th>\n",
       "      <th>en_planif</th>\n",
       "      <th>p50</th>\n",
       "      <th>p90</th>\n",
       "    </tr>\n",
       "  </thead>\n",
       "  <tbody>\n",
       "    <tr>\n",
       "      <th>0</th>\n",
       "      <td>1</td>\n",
       "      <td>1</td>\n",
       "      <td>ALBE</td>\n",
       "      <td>Ally Bessadous</td>\n",
       "      <td>éolien</td>\n",
       "      <td>2005-12-25</td>\n",
       "      <td>8.70</td>\n",
       "      <td>1.0</td>\n",
       "      <td>8.70</td>\n",
       "      <td>1715.3846</td>\n",
       "      <td>2020-12-24</td>\n",
       "      <td>2028-06-30</td>\n",
       "      <td>Oui</td>\n",
       "      <td>2028-12-31</td>\n",
       "      <td>Non</td>\n",
       "      <td>18896.8315</td>\n",
       "      <td>17230.294823</td>\n",
       "    </tr>\n",
       "    <tr>\n",
       "      <th>1</th>\n",
       "      <td>2</td>\n",
       "      <td>2</td>\n",
       "      <td>ALME</td>\n",
       "      <td>Ally Mercoeur</td>\n",
       "      <td>éolien</td>\n",
       "      <td>2005-12-25</td>\n",
       "      <td>5.74</td>\n",
       "      <td>1.0</td>\n",
       "      <td>5.74</td>\n",
       "      <td>1715.3846</td>\n",
       "      <td>2020-12-25</td>\n",
       "      <td>2028-06-30</td>\n",
       "      <td>NaN</td>\n",
       "      <td>2028-12-31</td>\n",
       "      <td>Non</td>\n",
       "      <td>12584.1223</td>\n",
       "      <td>11474.311788</td>\n",
       "    </tr>\n",
       "  </tbody>\n",
       "</table>\n",
       "</div>"
      ],
      "text/plain": [
       "   id  asset_id projet_id          projet technologie         cod    mw  \\\n",
       "0   1         1      ALBE  Ally Bessadous      éolien  2005-12-25  8.70   \n",
       "1   2         2      ALME   Ally Mercoeur      éolien  2005-12-25  5.74   \n",
       "\n",
       "   taux_succès  puissance_installée        eoh date_merchant  \\\n",
       "0          1.0                 8.70  1715.3846    2020-12-24   \n",
       "1          1.0                 5.74  1715.3846    2020-12-25   \n",
       "\n",
       "  date_dementelement repowering    date_msi en_planif         p50  \\\n",
       "0         2028-06-30        Oui  2028-12-31       Non  18896.8315   \n",
       "1         2028-06-30        NaN  2028-12-31       Non  12584.1223   \n",
       "\n",
       "            p90  \n",
       "0  17230.294823  \n",
       "1  11474.311788  "
      ]
     },
     "execution_count": 14,
     "metadata": {},
     "output_type": "execute_result"
    }
   ],
   "source": [
    "df_asset = ge.read_csv('/mnt/d/local-repo-github/enr_portfolio_modeling/src/validation/great_expectations_dir/data/asset.csv')\n",
    "df_asset.head(2)"
   ]
  },
  {
   "cell_type": "code",
   "execution_count": 15,
   "id": "f5b73c10-9f8a-4af6-8193-067e914d799c",
   "metadata": {
    "tags": []
   },
   "outputs": [
    {
     "data": {
      "text/plain": [
       "{\n",
       "  \"success\": false,\n",
       "  \"meta\": {},\n",
       "  \"exception_info\": {\n",
       "    \"raised_exception\": false,\n",
       "    \"exception_traceback\": null,\n",
       "    \"exception_message\": null\n",
       "  },\n",
       "  \"result\": {\n",
       "    \"element_count\": 293,\n",
       "    \"unexpected_count\": 2,\n",
       "    \"unexpected_percent\": 0.3412969283276451,\n",
       "    \"unexpected_percent_total\": 0.6825938566552902,\n",
       "    \"partial_unexpected_list\": []\n",
       "  }\n",
       "}"
      ]
     },
     "execution_count": 15,
     "metadata": {},
     "output_type": "execute_result"
    }
   ],
   "source": [
    "df_asset.expect_column_values_to_not_be_null(['asset_id', 'projet_id'])"
   ]
  },
  {
   "cell_type": "code",
   "execution_count": 16,
   "id": "a60be82c-fd7e-4328-843f-4745f8664b18",
   "metadata": {
    "tags": []
   },
   "outputs": [
    {
     "data": {
      "text/plain": [
       "{\n",
       "  \"success\": true,\n",
       "  \"meta\": {},\n",
       "  \"exception_info\": {\n",
       "    \"raised_exception\": false,\n",
       "    \"exception_traceback\": null,\n",
       "    \"exception_message\": null\n",
       "  },\n",
       "  \"result\": {\n",
       "    \"observed_value\": [\n",
       "      \"solaire\",\n",
       "      \"\\u00e9olien\"\n",
       "    ],\n",
       "    \"element_count\": 293,\n",
       "    \"missing_count\": null,\n",
       "    \"missing_percent\": null\n",
       "  }\n",
       "}"
      ]
     },
     "execution_count": 16,
     "metadata": {},
     "output_type": "execute_result"
    }
   ],
   "source": [
    "df_asset.expect_column_distinct_values_to_be_in_set('technologie', ['éolien', 'solaire'])"
   ]
  },
  {
   "cell_type": "code",
   "execution_count": null,
   "id": "50366df0-eaf3-4ff8-91ec-755dbb7c15a9",
   "metadata": {},
   "outputs": [],
   "source": []
  }
 ],
 "metadata": {
  "kernelspec": {
   "display_name": "Python 3 (ipykernel)",
   "language": "python",
   "name": "python3"
  },
  "language_info": {
   "codemirror_mode": {
    "name": "ipython",
    "version": 3
   },
   "file_extension": ".py",
   "mimetype": "text/x-python",
   "name": "python",
   "nbconvert_exporter": "python",
   "pygments_lexer": "ipython3",
   "version": "3.9.16"
  }
 },
 "nbformat": 4,
 "nbformat_minor": 5
}
