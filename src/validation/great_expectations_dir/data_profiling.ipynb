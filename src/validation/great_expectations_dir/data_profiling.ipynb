{
 "cells": [
  {
   "cell_type": "code",
   "execution_count": 17,
   "id": "f3041ee0-b617-4041-a175-35a184be410a",
   "metadata": {
    "tags": []
   },
   "outputs": [],
   "source": [
    "import pandas as pd\n",
    "import numpy as np"
   ]
  },
  {
   "cell_type": "code",
   "execution_count": 19,
   "id": "bba229ad-1601-4836-825b-af8bad4b81c9",
   "metadata": {
    "tags": []
   },
   "outputs": [],
   "source": [
    "path= '/mnt/d/local-repo-github/enr_portfolio_modeling/src/validation/great_expectations_dir/data/'"
   ]
  },
  {
   "cell_type": "code",
   "execution_count": 20,
   "id": "0c178477-8697-413d-aa55-df258caa14cf",
   "metadata": {
    "tags": []
   },
   "outputs": [
    {
     "data": {
      "text/html": [
       "<div>\n",
       "<style scoped>\n",
       "    .dataframe tbody tr th:only-of-type {\n",
       "        vertical-align: middle;\n",
       "    }\n",
       "\n",
       "    .dataframe tbody tr th {\n",
       "        vertical-align: top;\n",
       "    }\n",
       "\n",
       "    .dataframe thead th {\n",
       "        text-align: right;\n",
       "    }\n",
       "</style>\n",
       "<table border=\"1\" class=\"dataframe\">\n",
       "  <thead>\n",
       "    <tr style=\"text-align: right;\">\n",
       "      <th></th>\n",
       "      <th>id</th>\n",
       "      <th>hedge_id</th>\n",
       "      <th>projet_id</th>\n",
       "      <th>projet</th>\n",
       "      <th>type_hedge</th>\n",
       "      <th>date_debut</th>\n",
       "      <th>date_fin</th>\n",
       "      <th>profil</th>\n",
       "      <th>pct_couverture</th>\n",
       "      <th>contrepartie</th>\n",
       "      <th>pays_contrepartie</th>\n",
       "    </tr>\n",
       "  </thead>\n",
       "  <tbody>\n",
       "    <tr>\n",
       "      <th>0</th>\n",
       "      <td>1</td>\n",
       "      <td>1</td>\n",
       "      <td>ALBE</td>\n",
       "      <td>Ally Bessadous</td>\n",
       "      <td>PPA</td>\n",
       "      <td>2005-12-25</td>\n",
       "      <td>2020-12-24</td>\n",
       "      <td>NaN</td>\n",
       "      <td>1.0</td>\n",
       "      <td>NaN</td>\n",
       "      <td>NaN</td>\n",
       "    </tr>\n",
       "    <tr>\n",
       "      <th>1</th>\n",
       "      <td>2</td>\n",
       "      <td>2</td>\n",
       "      <td>ALME</td>\n",
       "      <td>Ally Mercoeur</td>\n",
       "      <td>PPA</td>\n",
       "      <td>2005-12-25</td>\n",
       "      <td>2020-12-25</td>\n",
       "      <td>NaN</td>\n",
       "      <td>1.0</td>\n",
       "      <td>NaN</td>\n",
       "      <td>NaN</td>\n",
       "    </tr>\n",
       "  </tbody>\n",
       "</table>\n",
       "</div>"
      ],
      "text/plain": [
       "   id  hedge_id projet_id          projet type_hedge  date_debut    date_fin  \\\n",
       "0   1         1      ALBE  Ally Bessadous        PPA  2005-12-25  2020-12-24   \n",
       "1   2         2      ALME   Ally Mercoeur        PPA  2005-12-25  2020-12-25   \n",
       "\n",
       "   profil  pct_couverture  contrepartie  pays_contrepartie  \n",
       "0     NaN             1.0           NaN                NaN  \n",
       "1     NaN             1.0           NaN                NaN  "
      ]
     },
     "execution_count": 20,
     "metadata": {},
     "output_type": "execute_result"
    }
   ],
   "source": [
    "df_hedge = pd.read_csv(path + 'hedge.csv')\n",
    "df_hedge.head(2)"
   ]
  },
  {
   "cell_type": "code",
   "execution_count": 21,
   "id": "b14e0d61-388a-4bdc-b7da-5f1a55182b53",
   "metadata": {
    "tags": []
   },
   "outputs": [
    {
     "name": "stdout",
     "output_type": "stream",
     "text": [
      "<class 'pandas.core.frame.DataFrame'>\n",
      "RangeIndex: 293 entries, 0 to 292\n",
      "Data columns (total 11 columns):\n",
      " #   Column             Non-Null Count  Dtype  \n",
      "---  ------             --------------  -----  \n",
      " 0   id                 293 non-null    int64  \n",
      " 1   hedge_id           293 non-null    int64  \n",
      " 2   projet_id          293 non-null    object \n",
      " 3   projet             293 non-null    object \n",
      " 4   type_hedge         293 non-null    object \n",
      " 5   date_debut         293 non-null    object \n",
      " 6   date_fin           293 non-null    object \n",
      " 7   profil             0 non-null      float64\n",
      " 8   pct_couverture     293 non-null    float64\n",
      " 9   contrepartie       0 non-null      float64\n",
      " 10  pays_contrepartie  0 non-null      float64\n",
      "dtypes: float64(4), int64(2), object(5)\n",
      "memory usage: 25.3+ KB\n"
     ]
    }
   ],
   "source": [
    "df_hedge.info()"
   ]
  },
  {
   "cell_type": "code",
   "execution_count": 23,
   "id": "6b2a1d95-4a09-4254-befb-b9094b5d16b3",
   "metadata": {
    "tags": []
   },
   "outputs": [
    {
     "data": {
      "text/plain": [
       "id                     0\n",
       "hedge_id               0\n",
       "projet_id              0\n",
       "projet                 0\n",
       "type_hedge             0\n",
       "date_debut             0\n",
       "date_fin               0\n",
       "profil               293\n",
       "pct_couverture         0\n",
       "contrepartie         293\n",
       "pays_contrepartie    293\n",
       "dtype: int64"
      ]
     },
     "execution_count": 23,
     "metadata": {},
     "output_type": "execute_result"
    }
   ],
   "source": [
    "df_hedge.isnull().sum()"
   ]
  },
  {
   "cell_type": "code",
   "execution_count": null,
   "id": "04f67001-d4af-4f9e-aa12-6870d530c70f",
   "metadata": {},
   "outputs": [],
   "source": []
  }
 ],
 "metadata": {
  "kernelspec": {
   "display_name": "Python 3 (ipykernel)",
   "language": "python",
   "name": "python3"
  },
  "language_info": {
   "codemirror_mode": {
    "name": "ipython",
    "version": 3
   },
   "file_extension": ".py",
   "mimetype": "text/x-python",
   "name": "python",
   "nbconvert_exporter": "python",
   "pygments_lexer": "ipython3",
   "version": "3.9.16"
  }
 },
 "nbformat": 4,
 "nbformat_minor": 5
}
